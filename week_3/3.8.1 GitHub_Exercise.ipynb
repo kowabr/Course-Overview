{
 "cells": [
  {
   "cell_type": "markdown",
   "metadata": {},
   "source": [
    "## Practicing the Course Workflow With Git and GitHub\n",
    "\n",
    "1.  This is a simple exercise to show you the process of working with Git and GitHub. The code below defines a string, groceries. Click in the code cell to edit it, then extend the code to split the string into a list of strings, each containing one item. Create a new list that has the same elements but in reverse order. Finally, print the new list."
   ]
  },
  {
   "cell_type": "code",
   "execution_count": 3,
   "metadata": {
    "collapsed": false
   },
   "outputs": [
    {
     "name": "stdout",
     "output_type": "stream",
     "text": [
      "apples corn potatoes yams parsley raddish onions beef\n",
      "['apples', 'corn', 'potatoes', 'yams', 'parsley', 'raddish', 'onions', 'beef']\n",
      "['beef', 'onions', 'raddish', 'parsley', 'yams', 'potatoes', 'corn', 'apples']\n"
     ]
    }
   ],
   "source": [
    "groceries = \"apples corn potatoes yams parsley raddish onions beef\"\n",
    "print groceries\n",
    "new_list=groceries.split(\" \")\n",
    "print new_list\n",
    "new_list.reverse()\n",
    "print new_list"
   ]
  },
  {
   "cell_type": "code",
   "execution_count": null,
   "metadata": {
    "collapsed": true
   },
   "outputs": [],
   "source": []
  }
 ],
 "metadata": {
  "anaconda-cloud": {},
  "kernelspec": {
   "display_name": "Python [Root]",
   "language": "python",
   "name": "Python [Root]"
  },
  "language_info": {
   "codemirror_mode": {
    "name": "ipython",
    "version": 2
   },
   "file_extension": ".py",
   "mimetype": "text/x-python",
   "name": "python",
   "nbconvert_exporter": "python",
   "pygments_lexer": "ipython2",
   "version": "2.7.12"
  }
 },
 "nbformat": 4,
 "nbformat_minor": 0
}
